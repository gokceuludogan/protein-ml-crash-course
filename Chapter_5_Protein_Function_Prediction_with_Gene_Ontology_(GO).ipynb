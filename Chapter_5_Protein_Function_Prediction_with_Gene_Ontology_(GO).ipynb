{
  "cells": [
    {
      "cell_type": "markdown",
      "metadata": {
        "colab_type": "text",
        "id": "view-in-github"
      },
      "source": [
        "<a href=\"https://colab.research.google.com/github/gokceuludogan/protein-ml-crash-course/blob/wip/Chapter_5_Protein_Function_Prediction_with_Gene_Ontology_(GO).ipynb\" target=\"_parent\"><img src=\"https://colab.research.google.com/assets/colab-badge.svg\" alt=\"Open In Colab\"/></a>"
      ]
    },
    {
      "cell_type": "markdown",
      "metadata": {
        "id": "CezLEGbeDh4z"
      },
      "source": [
        "## Overview\n",
        "\n",
        "Protein function prediction is a crucial task in bioinformatics, where we aim to determine the biological role of a protein based on its sequence or structure. A popular framework for describing protein functions is the **Gene Ontology (GO)**. GO provides a structured vocabulary for annotating proteins, organized into three main categories:\n",
        "\n",
        "- **Biological Process (BP)**: Pathways and processes a protein is involved in (e.g., cell cycle).\n",
        "- **Molecular Function (MF)**: Specific activities performed by the protein (e.g., binding).\n",
        "- **Cellular Component (CC)**: Locations within the cell where the protein operates (e.g., nucleus).\n",
        "\n",
        "In this chapter, we will:\n",
        "\n",
        "- Introduce the Gene Ontology.\n",
        "- Explain how to prepare a dataset for GO-based function prediction.\n",
        "- Build machine learning models for predicting GO terms using sequence or structural features.\n",
        "- Evaluate the performance of these models.\n",
        "\n",
        "## 1. Introduction to Gene Ontology (GO)\n",
        "\n",
        "### What is Gene Ontology?\n",
        "\n",
        "The **Gene Ontology** is a hierarchical system that classifies protein functions using a controlled vocabulary. Each GO term describes a specific aspect of a protein's role in the cell, and these terms are organized in a directed acyclic graph (DAG). This allows for hierarchical relationships between general terms (e.g., \"metabolic process\") and specific ones (e.g., \"glycolysis\").\n",
        "\n",
        "### Key GO Categories:\n",
        "\n",
        "- **Biological Process (BP)**: Pathways and larger processes (e.g., \"DNA repair\").\n",
        "- **Molecular Function (MF)**: Specific biochemical activities (e.g., \"ATP binding\").\n",
        "- **Cellular Component (CC)**: Where in the cell the protein is located (e.g., \"mitochondrion\").\n",
        "\n",
        "Each protein can be annotated with multiple GO terms across these categories.\n",
        "\n",
        "---\n",
        "\n",
        "## 2. Preparing a Dataset for Protein Function Prediction\n",
        "\n",
        "### Example Dataset:\n",
        "\n",
        "We will assume we have a dataset where each protein sequence is associated with one or more GO terms. This dataset may include:\n",
        "\n",
        "- Protein sequences\n",
        "- Known GO annotations (from BP, MF, or CC)\n",
        "\n",
        "| Sequence | GO Terms |\n",
        "| --- | --- |\n",
        "| MAGWELV | GO:0004674, GO:0005524, ... |\n",
        "| GGQVNLL | GO:0000166, GO:0004674, ... |\n",
        "\n",
        "The task is to predict the correct GO terms for new protein sequences.\n",
        "\n",
        "### Retrieving and Annotating Data with GO Terms\n",
        "We'll first retrieve protein sequences from UniProt SwissProt and annotate them with GO terms using UniProt-GOA. We will filter annotations based on the provided evidence codes (EXP, IDA, IMP, IGI, IEP, TAS, IC)."
      ]
    },
    {
      "cell_type": "code",
      "execution_count": null,
      "metadata": {
        "colab": {
          "base_uri": "https://localhost:8080/"
        },
        "id": "DxhqL-wTL3Uy",
        "outputId": "a4fbbade-6dce-4efb-9b93-a72bf727052c"
      },
      "outputs": [
        {
          "name": "stdout",
          "output_type": "stream",
          "text": [
            "Collecting bioservices\n",
            "  Downloading bioservices-1.11.2.tar.gz (191 kB)\n",
            "\u001b[?25l     \u001b[90m━━━━━━━━━━━━━━━━━━━━━━━━━━━━━━━━━━━━━━━━\u001b[0m \u001b[32m0.0/191.9 kB\u001b[0m \u001b[31m?\u001b[0m eta \u001b[36m-:--:--\u001b[0m\r\u001b[2K     \u001b[90m━━━━━━━━━━━━━━━━━━━━━━━━━━━━━━━━━━━━━━━━\u001b[0m \u001b[32m191.9/191.9 kB\u001b[0m \u001b[31m6.9 MB/s\u001b[0m eta \u001b[36m0:00:00\u001b[0m\n",
            "\u001b[?25h  Preparing metadata (setup.py) ... \u001b[?25l\u001b[?25hdone\n",
            "Collecting appdirs (from bioservices)\n",
            "  Downloading appdirs-1.4.4-py2.py3-none-any.whl.metadata (9.0 kB)\n",
            "Requirement already satisfied: beautifulsoup4 in /usr/local/lib/python3.10/dist-packages (from bioservices) (4.12.3)\n",
            "Collecting colorlog (from bioservices)\n",
            "  Downloading colorlog-6.8.2-py3-none-any.whl.metadata (10 kB)\n",
            "Collecting easydev>=0.12.0 (from bioservices)\n",
            "  Downloading easydev-0.13.2-py3-none-any.whl.metadata (3.5 kB)\n",
            "Collecting grequests (from bioservices)\n",
            "  Downloading grequests-0.7.0-py2.py3-none-any.whl.metadata (1.3 kB)\n",
            "Requirement already satisfied: matplotlib in /usr/local/lib/python3.10/dist-packages (from bioservices) (3.7.1)\n",
            "Requirement already satisfied: pandas>=0.21.1 in /usr/local/lib/python3.10/dist-packages (from bioservices) (2.1.4)\n",
            "Requirement already satisfied: requests in /usr/local/lib/python3.10/dist-packages (from bioservices) (2.32.3)\n",
            "Collecting requests_cache (from bioservices)\n",
            "  Downloading requests_cache-1.2.1-py3-none-any.whl.metadata (9.9 kB)\n",
            "Collecting suds-community>=0.7 (from bioservices)\n",
            "  Downloading suds_community-1.2.0-py3-none-any.whl.metadata (1.6 kB)\n",
            "Requirement already satisfied: lxml in /usr/local/lib/python3.10/dist-packages (from bioservices) (4.9.4)\n",
            "Requirement already satisfied: tqdm in /usr/local/lib/python3.10/dist-packages (from bioservices) (4.66.5)\n",
            "Requirement already satisfied: wrapt in /usr/local/lib/python3.10/dist-packages (from bioservices) (1.16.0)\n",
            "Collecting xmltodict (from bioservices)\n",
            "  Downloading xmltodict-0.13.0-py2.py3-none-any.whl.metadata (7.7 kB)\n",
            "Collecting colorama<0.5.0,>=0.4.6 (from easydev>=0.12.0->bioservices)\n",
            "  Downloading colorama-0.4.6-py2.py3-none-any.whl.metadata (17 kB)\n",
            "Collecting line-profiler<5.0.0,>=4.1.2 (from easydev>=0.12.0->bioservices)\n",
            "  Downloading line_profiler-4.1.3-cp310-cp310-manylinux_2_17_x86_64.manylinux2014_x86_64.whl.metadata (34 kB)\n",
            "Requirement already satisfied: pexpect<5.0.0,>=4.9.0 in /usr/local/lib/python3.10/dist-packages (from easydev>=0.12.0->bioservices) (4.9.0)\n",
            "Requirement already satisfied: platformdirs<5.0.0,>=4.2.0 in /usr/local/lib/python3.10/dist-packages (from easydev>=0.12.0->bioservices) (4.3.6)\n",
            "Requirement already satisfied: numpy<2,>=1.22.4 in /usr/local/lib/python3.10/dist-packages (from pandas>=0.21.1->bioservices) (1.26.4)\n",
            "Requirement already satisfied: python-dateutil>=2.8.2 in /usr/local/lib/python3.10/dist-packages (from pandas>=0.21.1->bioservices) (2.8.2)\n",
            "Requirement already satisfied: pytz>=2020.1 in /usr/local/lib/python3.10/dist-packages (from pandas>=0.21.1->bioservices) (2024.2)\n",
            "Requirement already satisfied: tzdata>=2022.1 in /usr/local/lib/python3.10/dist-packages (from pandas>=0.21.1->bioservices) (2024.1)\n",
            "Requirement already satisfied: soupsieve>1.2 in /usr/local/lib/python3.10/dist-packages (from beautifulsoup4->bioservices) (2.6)\n",
            "Collecting gevent (from grequests->bioservices)\n",
            "  Downloading gevent-24.2.1-cp310-cp310-manylinux_2_28_x86_64.whl.metadata (13 kB)\n",
            "Requirement already satisfied: contourpy>=1.0.1 in /usr/local/lib/python3.10/dist-packages (from matplotlib->bioservices) (1.3.0)\n",
            "Requirement already satisfied: cycler>=0.10 in /usr/local/lib/python3.10/dist-packages (from matplotlib->bioservices) (0.12.1)\n",
            "Requirement already satisfied: fonttools>=4.22.0 in /usr/local/lib/python3.10/dist-packages (from matplotlib->bioservices) (4.53.1)\n",
            "Requirement already satisfied: kiwisolver>=1.0.1 in /usr/local/lib/python3.10/dist-packages (from matplotlib->bioservices) (1.4.7)\n",
            "Requirement already satisfied: packaging>=20.0 in /usr/local/lib/python3.10/dist-packages (from matplotlib->bioservices) (24.1)\n",
            "Requirement already satisfied: pillow>=6.2.0 in /usr/local/lib/python3.10/dist-packages (from matplotlib->bioservices) (10.4.0)\n",
            "Requirement already satisfied: pyparsing>=2.3.1 in /usr/local/lib/python3.10/dist-packages (from matplotlib->bioservices) (3.1.4)\n",
            "Requirement already satisfied: charset-normalizer<4,>=2 in /usr/local/lib/python3.10/dist-packages (from requests->bioservices) (3.3.2)\n",
            "Requirement already satisfied: idna<4,>=2.5 in /usr/local/lib/python3.10/dist-packages (from requests->bioservices) (3.10)\n",
            "Requirement already satisfied: urllib3<3,>=1.21.1 in /usr/local/lib/python3.10/dist-packages (from requests->bioservices) (2.2.3)\n",
            "Requirement already satisfied: certifi>=2017.4.17 in /usr/local/lib/python3.10/dist-packages (from requests->bioservices) (2024.8.30)\n",
            "Requirement already satisfied: attrs>=21.2 in /usr/local/lib/python3.10/dist-packages (from requests_cache->bioservices) (24.2.0)\n",
            "Collecting cattrs>=22.2 (from requests_cache->bioservices)\n",
            "  Downloading cattrs-24.1.2-py3-none-any.whl.metadata (8.4 kB)\n",
            "Collecting url-normalize>=1.4 (from requests_cache->bioservices)\n",
            "  Downloading url_normalize-1.4.3-py2.py3-none-any.whl.metadata (3.1 kB)\n",
            "Requirement already satisfied: exceptiongroup>=1.1.1 in /usr/local/lib/python3.10/dist-packages (from cattrs>=22.2->requests_cache->bioservices) (1.2.2)\n",
            "Requirement already satisfied: typing-extensions!=4.6.3,>=4.1.0 in /usr/local/lib/python3.10/dist-packages (from cattrs>=22.2->requests_cache->bioservices) (4.12.2)\n",
            "Requirement already satisfied: ptyprocess>=0.5 in /usr/local/lib/python3.10/dist-packages (from pexpect<5.0.0,>=4.9.0->easydev>=0.12.0->bioservices) (0.7.0)\n",
            "Requirement already satisfied: six>=1.5 in /usr/local/lib/python3.10/dist-packages (from python-dateutil>=2.8.2->pandas>=0.21.1->bioservices) (1.16.0)\n",
            "Collecting zope.event (from gevent->grequests->bioservices)\n",
            "  Downloading zope.event-5.0-py3-none-any.whl.metadata (4.4 kB)\n",
            "Collecting zope.interface (from gevent->grequests->bioservices)\n",
            "  Downloading zope.interface-7.0.3-cp310-cp310-manylinux_2_5_x86_64.manylinux1_x86_64.manylinux_2_17_x86_64.manylinux2014_x86_64.whl.metadata (43 kB)\n",
            "\u001b[2K     \u001b[90m━━━━━━━━━━━━━━━━━━━━━━━━━━━━━━━━━━━━━━━━\u001b[0m \u001b[32m43.6/43.6 kB\u001b[0m \u001b[31m2.7 MB/s\u001b[0m eta \u001b[36m0:00:00\u001b[0m\n",
            "\u001b[?25hRequirement already satisfied: greenlet>=2.0.0 in /usr/local/lib/python3.10/dist-packages (from gevent->grequests->bioservices) (3.1.1)\n",
            "Requirement already satisfied: setuptools in /usr/local/lib/python3.10/dist-packages (from zope.event->gevent->grequests->bioservices) (71.0.4)\n",
            "Downloading easydev-0.13.2-py3-none-any.whl (56 kB)\n",
            "\u001b[2K   \u001b[90m━━━━━━━━━━━━━━━━━━━━━━━━━━━━━━━━━━━━━━━━\u001b[0m \u001b[32m56.8/56.8 kB\u001b[0m \u001b[31m3.6 MB/s\u001b[0m eta \u001b[36m0:00:00\u001b[0m\n",
            "\u001b[?25hDownloading colorlog-6.8.2-py3-none-any.whl (11 kB)\n",
            "Downloading suds_community-1.2.0-py3-none-any.whl (145 kB)\n",
            "\u001b[2K   \u001b[90m━━━━━━━━━━━━━━━━━━━━━━━━━━━━━━━━━━━━━━━━\u001b[0m \u001b[32m145.3/145.3 kB\u001b[0m \u001b[31m10.0 MB/s\u001b[0m eta \u001b[36m0:00:00\u001b[0m\n",
            "\u001b[?25hDownloading appdirs-1.4.4-py2.py3-none-any.whl (9.6 kB)\n",
            "Downloading grequests-0.7.0-py2.py3-none-any.whl (5.7 kB)\n",
            "Downloading requests_cache-1.2.1-py3-none-any.whl (61 kB)\n",
            "\u001b[2K   \u001b[90m━━━━━━━━━━━━━━━━━━━━━━━━━━━━━━━━━━━━━━━━\u001b[0m \u001b[32m61.4/61.4 kB\u001b[0m \u001b[31m3.7 MB/s\u001b[0m eta \u001b[36m0:00:00\u001b[0m\n",
            "\u001b[?25hDownloading xmltodict-0.13.0-py2.py3-none-any.whl (10.0 kB)\n",
            "Downloading cattrs-24.1.2-py3-none-any.whl (66 kB)\n",
            "\u001b[2K   \u001b[90m━━━━━━━━━━━━━━━━━━━━━━━━━━━━━━━━━━━━━━━━\u001b[0m \u001b[32m66.4/66.4 kB\u001b[0m \u001b[31m4.1 MB/s\u001b[0m eta \u001b[36m0:00:00\u001b[0m\n",
            "\u001b[?25hDownloading colorama-0.4.6-py2.py3-none-any.whl (25 kB)\n",
            "Downloading line_profiler-4.1.3-cp310-cp310-manylinux_2_17_x86_64.manylinux2014_x86_64.whl (717 kB)\n",
            "\u001b[2K   \u001b[90m━━━━━━━━━━━━━━━━━━━━━━━━━━━━━━━━━━━━━━━━\u001b[0m \u001b[32m717.6/717.6 kB\u001b[0m \u001b[31m29.8 MB/s\u001b[0m eta \u001b[36m0:00:00\u001b[0m\n",
            "\u001b[?25hDownloading url_normalize-1.4.3-py2.py3-none-any.whl (6.8 kB)\n",
            "Downloading gevent-24.2.1-cp310-cp310-manylinux_2_28_x86_64.whl (6.5 MB)\n",
            "\u001b[2K   \u001b[90m━━━━━━━━━━━━━━━━━━━━━━━━━━━━━━━━━━━━━━━━\u001b[0m \u001b[32m6.5/6.5 MB\u001b[0m \u001b[31m48.9 MB/s\u001b[0m eta \u001b[36m0:00:00\u001b[0m\n",
            "\u001b[?25hDownloading zope.event-5.0-py3-none-any.whl (6.8 kB)\n",
            "Downloading zope.interface-7.0.3-cp310-cp310-manylinux_2_5_x86_64.manylinux1_x86_64.manylinux_2_17_x86_64.manylinux2014_x86_64.whl (254 kB)\n",
            "\u001b[2K   \u001b[90m━━━━━━━━━━━━━━━━━━━━━━━━━━━━━━━━━━━━━━━━\u001b[0m \u001b[32m254.1/254.1 kB\u001b[0m \u001b[31m16.1 MB/s\u001b[0m eta \u001b[36m0:00:00\u001b[0m\n",
            "\u001b[?25hBuilding wheels for collected packages: bioservices\n",
            "  Building wheel for bioservices (setup.py) ... \u001b[?25l\u001b[?25hdone\n",
            "  Created wheel for bioservices: filename=bioservices-1.11.2-py3-none-any.whl size=223228 sha256=54c1eb76aa96db7db34acc3977fbe15fee7079da3e7918399fa5ce9d776fdfa9\n",
            "  Stored in directory: /root/.cache/pip/wheels/bf/ac/b3/dc05e53581bbb58641e9ac52428b89d7fc0d9ddc44f9b16456\n",
            "Successfully built bioservices\n",
            "Installing collected packages: appdirs, zope.interface, zope.event, xmltodict, url-normalize, suds-community, line-profiler, colorlog, colorama, cattrs, requests_cache, gevent, easydev, grequests, bioservices\n",
            "Successfully installed appdirs-1.4.4 bioservices-1.11.2 cattrs-24.1.2 colorama-0.4.6 colorlog-6.8.2 easydev-0.13.2 gevent-24.2.1 grequests-0.7.0 line-profiler-4.1.3 requests_cache-1.2.1 suds-community-1.2.0 url-normalize-1.4.3 xmltodict-0.13.0 zope.event-5.0 zope.interface-7.0.3\n"
          ]
        }
      ],
      "source": []
    },
    {
      "cell_type": "code",
      "execution_count": 76,
      "metadata": {
        "colab": {
          "base_uri": "https://localhost:8080/"
        },
        "id": "M2dt9K_RJBwd",
        "outputId": "19c57458-866d-41f5-e934-5a7ca9227696"
      },
      "outputs": [
        {
          "name": "stdout",
          "output_type": "stream",
          "text": [
            "        Entry                                           Sequence  \\\n",
            "0  A0A0C5B5G6                                   MRWQEMGYIFYPRKLR   \n",
            "1  A0A1B0GTW7  MLLLLLLLLLLPPLVLRVAASRCLHDETQKSVSLLRPPFSQLPSKS...   \n",
            "2      A0JNW5  MAGIIKKQILKHLSRFTKNLSPDKINLSTLKGEGELKNLELDEEVL...   \n",
            "5      A1A4S6  MGLQPLEFSDCYLDSPWFRERIRAHEAELERTNKFIKELIKDGKNL...   \n",
            "6      A1A519  MKRRQKRKHLENEESQETAEKGGGMSKSQEDALQPGSTRVAKGWSQ...   \n",
            "\n",
            "                                               BP_GO  \\\n",
            "0  GO:0032147,GO:2001145,GO:0001649,GO:0033687,GO...   \n",
            "1                   GO:0007155,GO:0061966,GO:0006508   \n",
            "2                              GO:0034498,GO:0120009   \n",
            "5        GO:0007010,GO:0043066,GO:0051056,GO:0007165   \n",
            "6                   GO:0009566,GO:0045893,GO:0006366   \n",
            "\n",
            "                              MF_GO  \\\n",
            "0             GO:0003677,GO:0140297   \n",
            "1  GO:0046872,GO:0004222,GO:0008233   \n",
            "2  GO:0062069,GO:0120013,GO:0042803   \n",
            "5                        GO:0005096   \n",
            "6             GO:0003677,GO:0046872   \n",
            "\n",
            "                                         CC_GO  \\\n",
            "0             GO:0005615,GO:0005739,GO:0005634   \n",
            "1                        GO:0005737,GO:0016020   \n",
            "2                        GO:0005829,GO:0005769   \n",
            "5  GO:0005829,GO:0010008,GO:0048471,GO:0005886   \n",
            "6                                   GO:0005634   \n",
            "\n",
            "                                              All_GO  \n",
            "0  GO:0032147,GO:2001145,GO:0001649,GO:0033687,GO...  \n",
            "1  GO:0007155,GO:0061966,GO:0006508,GO:0046872,GO...  \n",
            "2  GO:0034498,GO:0120009,GO:0062069,GO:0120013,GO...  \n",
            "5  GO:0007010,GO:0043066,GO:0051056,GO:0007165,GO...  \n",
            "6  GO:0009566,GO:0045893,GO:0006366,GO:0003677,GO...  \n"
          ]
        }
      ],
      "source": [
        "import requests\n",
        "import pandas as pd\n",
        "import numpy as np\n",
        "\n",
        "# Example query to get SwissProt proteins\n",
        "query = \"reviewed:true AND organism_id:9606\"\n",
        "columns = \"accession,sequence,go_p,go_f,go_c\"\n",
        "base_url = \"https://rest.uniprot.org/uniprotkb/search\"\n",
        "\n",
        "# Parameters for the API call\n",
        "params = {\n",
        "    \"query\": query,\n",
        "    \"format\": \"tsv\",  # We want to retrieve tab-separated values\n",
        "    \"fields\": columns\n",
        "}\n",
        "\n",
        "# Make the request\n",
        "response = requests.get(base_url, params=params)\n",
        "\n",
        "# Check if the request was successful\n",
        "if response.status_code == 200:\n",
        "    # Convert to DataFrame\n",
        "    data = response.text\n",
        "    df = pd.DataFrame([x.split('\\t') for x in data.split('\\n')[1:] if x], columns=['Entry', 'Sequence', 'BP_GO', 'MF_GO', 'CC_GO'])\n",
        "\n",
        "    go_cols = ['BP_GO', 'MF_GO', 'CC_GO']\n",
        "\n",
        "    # Convert empty GO annotations to nan \n",
        "    df[go_cols] = df[go_cols].replace(\"\", np.nan)\n",
        "\n",
        "    # Drop rows without GO annotations\n",
        "    df = df.dropna(subset=go_cols)\n",
        "\n",
        "    # Format columns related to GO into a comma separated GO:XXXXXXX value list\n",
        "    for col in go_cols: df[col] = df[col].str.extractall(r'\\[(GO:\\d+)\\]').groupby(level=0).agg(','.join)\n",
        "\n",
        "    # Extract GO terms into one column and filter based on evidence codes\n",
        "    df['All_GO'] = df[['BP_GO', 'MF_GO', 'CC_GO']].apply(lambda x: ','.join(x.dropna()), axis=1)\n",
        "\n",
        "    print(df.head())  # Display first few rows of the dataframe\n",
        "else:\n",
        "    print(f\"Failed to retrieve data: {response.status_code}\")\n"
      ]
    },
    {
      "cell_type": "code",
      "execution_count": 85,
      "metadata": {
        "id": "M8N1tWn3MOkL"
      },
      "outputs": [
        {
          "ename": "ModuleNotFoundError",
          "evalue": "No module named 'goatools'",
          "output_type": "error",
          "traceback": [
            "\u001b[0;31m---------------------------------------------------------------------------\u001b[0m",
            "\u001b[0;31mModuleNotFoundError\u001b[0m                       Traceback (most recent call last)",
            "Cell \u001b[0;32mIn[85], line 1\u001b[0m\n\u001b[0;32m----> 1\u001b[0m \u001b[38;5;28;01mfrom\u001b[39;00m \u001b[38;5;21;01mgoatools\u001b[39;00m \u001b[38;5;28;01mimport\u001b[39;00m obo_parser\n\u001b[1;32m      3\u001b[0m \u001b[38;5;66;03m# Load GO terms from an ontology file (e.g., GO.obo)\u001b[39;00m\n\u001b[1;32m      4\u001b[0m go \u001b[38;5;241m=\u001b[39m obo_parser\u001b[38;5;241m.\u001b[39mGODag(\u001b[38;5;124m\"\u001b[39m\u001b[38;5;124mgo-basic.obo\u001b[39m\u001b[38;5;124m\"\u001b[39m)\n",
            "\u001b[0;31mModuleNotFoundError\u001b[0m: No module named 'goatools'"
          ]
        }
      ],
      "source": [
        "from goatools import obo_parser\n",
        "\n",
        "# Load GO terms from an ontology file (e.g., GO.obo)\n",
        "go = obo_parser.GODag(\"go-basic.obo\")\n",
        "\n",
        "# Filter function for keeping GO terms with specific evidence codes\n",
        "def filter_go_annotations(go_terms):\n",
        "    filtered_terms = [go_term for go_term in go_terms if go[go_term].evidence in ['EXP', 'IDA', 'IMP', 'IGI', 'IEP', 'TAS', 'IC']]\n",
        "    return filtered_terms\n",
        "\n",
        "# Apply the filter to retain only high-confidence GO terms\n",
        "df['Filtered_GO'] = df['All_GO'].apply(lambda go_terms: filter_go_annotations(go_terms.split(',')))\n",
        "\n",
        "# Remove proteins with no filtered GO terms\n",
        "df = df[df['Filtered_GO'].map(len) > 0]\n"
      ]
    },
    {
      "cell_type": "code",
      "execution_count": null,
      "metadata": {
        "id": "kdPcFRSfDfYL"
      },
      "outputs": [],
      "source": [
        "import pandas as pd\n",
        "from sklearn.preprocessing import MultiLabelBinarizer\n",
        "\n",
        "# Load dataset\n",
        "df = pd.read_csv('protein_go_dataset.csv')\n",
        "\n",
        "# Split into sequences and GO terms\n",
        "X = df['Sequence']\n",
        "y = df['GO Terms'].apply(lambda x: x.split(','))  # Split GO terms into lists\n",
        "\n",
        "# Encode GO terms using MultiLabelBinarizer\n",
        "mlb = MultiLabelBinarizer()\n",
        "y_encoded = mlb.fit_transform(y)\n",
        "\n",
        "# Display encoded GO terms\n",
        "print(\"GO Terms Shape:\", y_encoded.shape)\n",
        "print(\"Example of GO Terms for a Protein:\", y_encoded[0])\n"
      ]
    },
    {
      "cell_type": "markdown",
      "metadata": {
        "id": "uUGBwIkMD5OG"
      },
      "source": [
        "## 3. Traditional Machine Learning for GO Prediction\n",
        "\n",
        "For this task, we can use traditional ML models like **Logistic Regression**, **Random Forest**, or **SVM** in a multi-label classification setup. Since each protein may have multiple GO annotations, we will use **multi-label classification**, where the model predicts multiple classes (GO terms) for each protein."
      ]
    },
    {
      "cell_type": "code",
      "execution_count": null,
      "metadata": {
        "id": "EG1KCDa4D3y_"
      },
      "outputs": [],
      "source": [
        "from sklearn.linear_model import LogisticRegression\n",
        "from sklearn.model_selection import train_test_split\n",
        "from sklearn.metrics import accuracy_score\n",
        "\n",
        "# Split dataset into training and test sets\n",
        "X_train, X_test, y_train, y_test = train_test_split(X, y_encoded, test_size=0.2, random_state=42)\n",
        "\n",
        "# One-hot encode protein sequences (same as previous chapters)\n",
        "X_train_encoded = np.array([one_hot_encode(seq) for seq in X_train])\n",
        "X_test_encoded = np.array([one_hot_encode(seq) for seq in X_test])\n",
        "\n",
        "# Train Logistic Regression model for multi-label classification\n",
        "logreg = LogisticRegression(max_iter=1000)\n",
        "logreg.fit(X_train_encoded, y_train)\n",
        "\n",
        "# Predict GO terms on the test set\n",
        "y_pred = logreg.predict(X_test_encoded)\n",
        "\n",
        "# Evaluate model\n",
        "accuracy = accuracy_score(y_test, y_pred)\n",
        "print(\"Logistic Regression Accuracy:\", accuracy)\n"
      ]
    },
    {
      "cell_type": "markdown",
      "metadata": {
        "id": "W_QxR1RMD1E3"
      },
      "source": [
        "## 5. Model Evaluation\n",
        "\n",
        "Since this is a **multi-label classification** task, traditional accuracy isn't enough to fully evaluate the model's performance. We should use metrics like **precision**, **recall**, and **F1-score** for each GO term."
      ]
    },
    {
      "cell_type": "code",
      "execution_count": null,
      "metadata": {
        "id": "locfp7bZDzg1"
      },
      "outputs": [],
      "source": [
        "from sklearn.metrics import classification_report\n",
        "\n",
        "# Predict on the test set (using logistic regression for demonstration)\n",
        "y_pred = logreg.predict(X_test_encoded)\n",
        "\n",
        "# Convert predictions to binary format\n",
        "y_pred_binary = (y_pred > 0.5).astype(int)\n",
        "\n",
        "# Generate classification report\n",
        "print(\"Classification Report:\\n\", classification_report(y_test, y_pred_binary, target_names=mlb.classes_))"
      ]
    },
    {
      "cell_type": "markdown",
      "metadata": {
        "id": "zl1Bex_ODw_S"
      },
      "source": [
        "## 6. Conclusion\n",
        "\n",
        "In this chapter, we introduced the **Gene Ontology (GO)** framework for protein function prediction and explored how to build machine learning and deep learning models to predict GO terms based on protein sequences. We demonstrated how to handle multi-label classification, using both traditional ML models and deep learning architectures."
      ]
    }
  ],
  "metadata": {
    "colab": {
      "authorship_tag": "ABX9TyO3ePhmNs6ola+mxWyBqGdQ",
      "include_colab_link": true,
      "provenance": []
    },
    "kernelspec": {
      "display_name": "ccourse",
      "language": "python",
      "name": "python3"
    },
    "language_info": {
      "codemirror_mode": {
        "name": "ipython",
        "version": 3
      },
      "file_extension": ".py",
      "mimetype": "text/x-python",
      "name": "python",
      "nbconvert_exporter": "python",
      "pygments_lexer": "ipython3",
      "version": "3.9.6"
    }
  },
  "nbformat": 4,
  "nbformat_minor": 0
}
